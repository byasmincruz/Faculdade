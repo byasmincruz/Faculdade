{
  "nbformat": 4,
  "nbformat_minor": 0,
  "metadata": {
    "colab": {
      "provenance": [],
      "include_colab_link": true
    },
    "kernelspec": {
      "name": "python3",
      "display_name": "Python 3"
    },
    "language_info": {
      "name": "python"
    }
  },
  "cells": [
    {
      "cell_type": "markdown",
      "metadata": {
        "id": "view-in-github",
        "colab_type": "text"
      },
      "source": [
        "<a href=\"https://colab.research.google.com/github/byasmincruz/Faculdade/blob/main/Aula_4_Python_Exerc%C3%ADcios.ipynb\" target=\"_parent\"><img src=\"https://colab.research.google.com/assets/colab-badge.svg\" alt=\"Open In Colab\"/></a>"
      ]
    },
    {
      "cell_type": "markdown",
      "source": [
        "#Aula 4\n",
        "1 - Crie um programa em Python que solicite ao usuário a sua idade e mostre se ele pode ter CNH."
      ],
      "metadata": {
        "id": "1KQY0UnugKbu"
      }
    },
    {
      "cell_type": "code",
      "source": [
        "idade = int(input(\"Qual a sua idade? \"))\n",
        "if idade >= 18:\n",
        "  print(\"Você já pode tirar CNH\")\n",
        "else:\n",
        "  print(\"Você ainda não pode tirar sua CNH\")\n",
        "print(\"Fim do programa.\")"
      ],
      "metadata": {
        "id": "sopEqwpwIIHe",
        "colab": {
          "base_uri": "https://localhost:8080/"
        },
        "outputId": "e2a58632-0cc3-4f2c-99dd-d40c2c452de8"
      },
      "execution_count": null,
      "outputs": [
        {
          "output_type": "stream",
          "name": "stdout",
          "text": [
            "Qual a sua idade? 1\n",
            "Você ainda não pode tirar sua CNH\n",
            "Fim do programa.\n"
          ]
        }
      ]
    },
    {
      "cell_type": "markdown",
      "source": [
        "2- Escreva um programa em Python que solicite um número inteiro ao usuário e mostre-o caso o mesmo seja par."
      ],
      "metadata": {
        "id": "OOFb96xrguWv"
      }
    },
    {
      "cell_type": "code",
      "source": [
        "numero = int(input(\"Insira um número inteiro para saber se é par: \"))\n",
        "if numero % 2 == 0:\n",
        "  print(\"O número é par.\")\n",
        "else:\n",
        "  print(\"O número é ímpar.\")"
      ],
      "metadata": {
        "id": "4nM7bgmfg8os",
        "colab": {
          "base_uri": "https://localhost:8080/"
        },
        "outputId": "954563c5-b316-45f0-c7a2-f9364d6e21e1"
      },
      "execution_count": null,
      "outputs": [
        {
          "output_type": "stream",
          "name": "stdout",
          "text": [
            "Insira um número inteiro para saber se é par: 41\n",
            "O número é ímpar.\n"
          ]
        }
      ]
    },
    {
      "cell_type": "markdown",
      "source": [
        "3- Crie um programa em Python que solicite ao usuário três valores inteiros (A, B e C) e verifica se o valor armazenado em B é o menor."
      ],
      "metadata": {
        "id": "rtDER64Ug962"
      }
    },
    {
      "cell_type": "code",
      "source": [
        "a = int(input(\"Insira o valor A: \"))\n",
        "b = int(input(\"Insira o valor B: \"))\n",
        "c = int(input(\"Insira o valor C: \"))\n",
        "if b < a and b < c:\n",
        "  print(b, \"é menor que\" , a , \"e\" , c)\n",
        "else:\n",
        "  print(b, \"não é menor que\", a , \"e\" , c)"
      ],
      "metadata": {
        "id": "XsqbR5pMhHJd",
        "colab": {
          "base_uri": "https://localhost:8080/"
        },
        "outputId": "7a4c0895-01d6-4113-eca8-e5a68b3cedd7"
      },
      "execution_count": null,
      "outputs": [
        {
          "output_type": "stream",
          "name": "stdout",
          "text": [
            "Insira o valor A: 4\n",
            "Insira o valor B: 2\n",
            "Insira o valor C: 2\n",
            "2 não é menor que 4 e 2\n"
          ]
        }
      ]
    },
    {
      "cell_type": "markdown",
      "source": [
        "3a - Faça um programa que receba três números inteiros. A seguir, o programa deve apresentar qual é o maior dos três."
      ],
      "metadata": {
        "id": "vJ4Fl_7bFi0c"
      }
    },
    {
      "cell_type": "code",
      "source": [
        "a = int(input(\"Insita o valor A: \"))\n",
        "b = int(input(\"Insira o valor B: \"))\n",
        "c = int(input(\"Insira o valor C: \"))\n",
        "\n",
        "#Básico:\n",
        "if a > b and a > c:\n",
        "  print(a, \"é o maior número\")\n",
        "if b > a and b > c:\n",
        "  print(b, \"é o maior número\")\n",
        "if c > a and c > b:\n",
        "  print(c, \"é o maior número\")\n",
        "\n",
        "#Eficiente\n",
        "maior = a\n",
        "if b > maior:\n",
        "  maior = b\n",
        "if c > maior:\n",
        "  maior = c\n",
        "print(\"%d é o maior entre %d e %d.\" % (a, b, c))\n"
      ],
      "metadata": {
        "colab": {
          "base_uri": "https://localhost:8080/"
        },
        "id": "dXkQjGI-GKYV",
        "outputId": "679c996e-2558-47e4-c494-5e663b3c136b"
      },
      "execution_count": null,
      "outputs": [
        {
          "output_type": "stream",
          "name": "stdout",
          "text": [
            "Insita o valor A: 4\n",
            "Insira o valor B: 4\n",
            "Insira o valor C: 2\n",
            "4 é o maior entre 4 e 2.\n"
          ]
        }
      ]
    },
    {
      "cell_type": "markdown",
      "source": [
        "4- Crie um programa em Python que solicite ao usuário as notas NP1, NP2 e PIM. A seguir, calcule e mostre a média segundo o critério da UNIP e mostre se o aluno está aprovado (média >= 7.0) ou está de exame caso contrário."
      ],
      "metadata": {
        "id": "9uPXxw0jhHee"
      }
    },
    {
      "cell_type": "code",
      "source": [
        "np1 = float(input(\"Insira a sua nota da np1: \"))\n",
        "np2 = float(input(\"Insira a sua nota da np2: \"))\n",
        "media = (np1 + np2)/2\n",
        "if media >= 7.0:\n",
        "  print(\"Você foi aprovado! Sua média foi:\", media)\n",
        "else:\n",
        "  print(\"Você ficou de exame! Sua média foi:\", media)\n"
      ],
      "metadata": {
        "id": "KpqMogj8hjn_",
        "colab": {
          "base_uri": "https://localhost:8080/"
        },
        "outputId": "6f504acf-80ba-4a95-b148-90fa98c3e9fb"
      },
      "execution_count": null,
      "outputs": [
        {
          "output_type": "stream",
          "name": "stdout",
          "text": [
            "Insira a sua nota da np1: 7\n",
            "Insira a sua nota da np2: 7\n",
            "Você foi aprovado! Sua média foi: 7.0\n"
          ]
        }
      ]
    },
    {
      "cell_type": "markdown",
      "source": [
        "5- Faça um programa que solicite ao usuário um número inteiro, calcule e mostre a raiz quadrada desse número. O programa deverá verificar antes se o número digitado é positivo, exibindo uma mensagem de alerta, caso seja negativo."
      ],
      "metadata": {
        "id": "7TC6PC8phkCi"
      }
    },
    {
      "cell_type": "code",
      "source": [
        "numero = int(input(\"Insira o número: \"))\n",
        "if numero > 0:\n",
        "  raiz = numero ** 0.5\n",
        "  print(\"A raiz quadrada do número %d é %f.\" % (numero, raiz))\n",
        "else:\n",
        "  print(\"Esse número é negativo!\")"
      ],
      "metadata": {
        "id": "79GprIlghs3f",
        "colab": {
          "base_uri": "https://localhost:8080/"
        },
        "outputId": "6b1b7caa-2e53-4bee-eef7-c83395678602"
      },
      "execution_count": null,
      "outputs": [
        {
          "output_type": "stream",
          "name": "stdout",
          "text": [
            "Insira o número: 2\n",
            "A raiz quadrada do número 2 é 1.414214.\n"
          ]
        }
      ]
    },
    {
      "cell_type": "markdown",
      "source": [
        "6- Escreva um algoritmo que solicite um número ao usuário. Caso seja digitado um valor entre 0 e 9, mostre: “valor correto”, caso contrário mostre: “valor incorreto”."
      ],
      "metadata": {
        "id": "EDX_lYOphtNE"
      }
    },
    {
      "cell_type": "code",
      "source": [
        "numero = int(input(\"Insira um valor entre 0 e 9: \"))\n",
        "if numero >= 0 and numero <= 9:\n",
        "  print(\"Valor correto\")\n",
        "else:\n",
        "  print(\"Valor incorreto.\")"
      ],
      "metadata": {
        "id": "cRTr_hn2h5EI",
        "colab": {
          "base_uri": "https://localhost:8080/"
        },
        "outputId": "2dd88f78-fd20-4635-dea6-0928b7ffd7ee"
      },
      "execution_count": null,
      "outputs": [
        {
          "output_type": "stream",
          "name": "stdout",
          "text": [
            "Insira um valor entre 0 e 9: 40\n",
            "Valor incorreto.\n"
          ]
        }
      ]
    },
    {
      "cell_type": "markdown",
      "source": [
        "7- Crie um algoritmo que solicite ao usuário o seu turno de trabalho e a quantidade de horas trabalhadas, calcule e mostre o valor do salário. Considere os valores de horas a seguir, de acordo com o turno de trabalho. Caso o turno seja igual a ‘N’ (utilize um caractere para representar) o valor da hora trabalhada é R\\$ 45,00, caso contrário é R\\$ 37,50"
      ],
      "metadata": {
        "id": "uxPnWSzdh5XM"
      }
    },
    {
      "cell_type": "code",
      "source": [
        "turno = input(\"Insira o seu turno de trabalho? (N - noturno, D - diurno)\")\n",
        "horas = float(input(\"Quantas horas foram trabalhadas? \"))\n",
        "\n",
        "if turno == \"N\":\n",
        "  valorHora = 45.0\n",
        "else:\n",
        "  valorHora = 37.5\n",
        "\n",
        "print(\"Seu salário vale R$%.2f.\" % (horas * valorHora))\n"
      ],
      "metadata": {
        "id": "SmuHC9hniAif"
      },
      "execution_count": null,
      "outputs": []
    },
    {
      "cell_type": "markdown",
      "source": [
        "8- Faça um programa em Python que obtenha o valor de uma compra, calcule e mostre o valor da compra considerando o  desconto, conforme descrito abaixo:\n",
        "* para compras acima de R$ 200 a loja\n",
        "dá um desconto de 20%\n",
        "* para as abaixo disso não tem desconto, mostre o valor da compra."
      ],
      "metadata": {
        "id": "t47ch_YhiXAv"
      }
    },
    {
      "cell_type": "code",
      "source": [
        "compra = float(input(\"Insira o valor da compra: \"))\n",
        "if compra >= 200.0:\n",
        "  compra = compra * 0.80\n",
        "print(\"Valor a pagar: R$%.2f.\" % compra)"
      ],
      "metadata": {
        "id": "Xm_NsPGjiWfc",
        "colab": {
          "base_uri": "https://localhost:8080/"
        },
        "outputId": "73797046-fad3-437f-b2fc-169393db33e9"
      },
      "execution_count": null,
      "outputs": [
        {
          "output_type": "stream",
          "name": "stdout",
          "text": [
            "Insira o valor da compra: 200\n",
            "Valor a pagar: R$160.00.\n"
          ]
        }
      ]
    },
    {
      "cell_type": "markdown",
      "source": [
        "9- Escreva um programa em Python que solicite ao usuário os valores de três contas de consumo (p.ex. água, luz e telefone) e o valor de seu salário. Verifique se o salário é suficiente para pagar as três contas, caso não seja apresente a mensagem “Salário insuficiente!”. Caso seja, apresente o valor que restou do salário após pagar as contas."
      ],
      "metadata": {
        "id": "VqcbUAcmijk1"
      }
    },
    {
      "cell_type": "code",
      "source": [
        "agua = float(input(\"Qual a conta de água? \"))\n",
        "luz = float(input(\"Qual a conta de luz? \"))\n",
        "celular = float(input(\"Qual a conta de celular? \"))\n",
        "salario = float(input(\"Qual foi o seu salário? \"))\n",
        "\n",
        "salario = salario - agua - luz - celular\n",
        "\n",
        "if salario < 0.0:\n",
        "  print(\"Salário insuficiente.\")\n",
        "else:\n",
        "  print(\"Depois dos pagamentos, restará R$%.2f\" % salario)"
      ],
      "metadata": {
        "id": "N5dv32fMiuyc",
        "colab": {
          "base_uri": "https://localhost:8080/"
        },
        "outputId": "a8312406-63aa-424e-92d9-95befee44892"
      },
      "execution_count": null,
      "outputs": [
        {
          "output_type": "stream",
          "name": "stdout",
          "text": [
            "Qual a conta de água? 100\n",
            "Qual a conta de luz? 100\n",
            "Qual a conta de celular? 60\n",
            "Qual foi o seu salário? 1500\n",
            "Depois dos pagamentos, restará R$1240.00\n"
          ]
        }
      ]
    }
  ]
}