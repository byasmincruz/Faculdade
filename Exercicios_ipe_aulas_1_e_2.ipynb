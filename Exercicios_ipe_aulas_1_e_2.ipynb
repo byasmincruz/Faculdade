{
  "nbformat": 4,
  "nbformat_minor": 0,
  "metadata": {
    "colab": {
      "provenance": [],
      "include_colab_link": true
    },
    "kernelspec": {
      "name": "python3",
      "display_name": "Python 3"
    },
    "language_info": {
      "name": "python"
    }
  },
  "cells": [
    {
      "cell_type": "markdown",
      "metadata": {
        "id": "view-in-github",
        "colab_type": "text"
      },
      "source": [
        "<a href=\"https://colab.research.google.com/github/byasmincruz/Faculdade/blob/main/Exercicios_ipe_aulas_1_e_2.ipynb\" target=\"_parent\"><img src=\"https://colab.research.google.com/assets/colab-badge.svg\" alt=\"Open In Colab\"/></a>"
      ]
    },
    {
      "cell_type": "markdown",
      "source": [
        "#Aula 1\n",
        "1- Faça um programa em Python que escreva a mensagem “Ciências da Computação - UNIP” na tela."
      ],
      "metadata": {
        "id": "1PR8JAwdc3AR"
      }
    },
    {
      "cell_type": "code",
      "execution_count": null,
      "metadata": {
        "id": "1Qp4TcXHcSaV",
        "colab": {
          "base_uri": "https://localhost:8080/"
        },
        "outputId": "c6a8bd8f-21b3-414d-c04e-f613bd7f6b0f"
      },
      "outputs": [
        {
          "output_type": "stream",
          "name": "stdout",
          "text": [
            "Ciência da Computação - UNIP\n"
          ]
        }
      ],
      "source": [
        "print (\"Ciência da Computação - UNIP\")"
      ]
    },
    {
      "cell_type": "markdown",
      "source": [
        "2- Faça um programa em Python que solicite ao usuário a sua profissão e mostre na tela a informação digitada."
      ],
      "metadata": {
        "id": "HpWLljb_dT-V"
      }
    },
    {
      "cell_type": "code",
      "source": [
        "profissao = input(\"Qual a sua profissão?\")\n",
        "print(\"Você é um(a):\", profissao)"
      ],
      "metadata": {
        "id": "hr0uznKidftW",
        "colab": {
          "base_uri": "https://localhost:8080/"
        },
        "outputId": "a2bdd245-19c3-4115-ad2d-322e6cebb31d"
      },
      "execution_count": null,
      "outputs": [
        {
          "output_type": "stream",
          "name": "stdout",
          "text": [
            "Qual a sua profissão?Princesa\n",
            "Você é um(a): Princesa\n"
          ]
        }
      ]
    },
    {
      "cell_type": "markdown",
      "source": [
        "3- Faça um programa em Python que solicite ao usuário a sua idade e apresente a informação na tela."
      ],
      "metadata": {
        "id": "c4yJMjxxdd6D"
      }
    },
    {
      "cell_type": "code",
      "source": [
        "idade = input(\"Qual a sua idade? \")\n",
        "print(\"A sua idade é:\", idade)"
      ],
      "metadata": {
        "id": "eRYNTzr8do2A",
        "colab": {
          "base_uri": "https://localhost:8080/"
        },
        "outputId": "e7e8af6d-46be-434b-c2bf-687037f09b5a"
      },
      "execution_count": null,
      "outputs": [
        {
          "output_type": "stream",
          "name": "stdout",
          "text": [
            "Qual a sua idade? 19\n",
            "A sua idade é: 19\n"
          ]
        }
      ]
    },
    {
      "cell_type": "markdown",
      "source": [
        "4- Faça um programa em Python que solicite o último sobrenome do usuário e mostre na tela a  mensagem:  “Família” e na sequência o  sobrenome digitado."
      ],
      "metadata": {
        "id": "n13RyEKddp6t"
      }
    },
    {
      "cell_type": "code",
      "source": [
        "familia = input(\"Qual o seu sobrenome? \")\n",
        "print(\"Família\", familia)"
      ],
      "metadata": {
        "id": "jb9yxT6JeF1n",
        "colab": {
          "base_uri": "https://localhost:8080/"
        },
        "outputId": "ed9fbf51-374a-4d0b-a3fd-c31953dcf738"
      },
      "execution_count": null,
      "outputs": [
        {
          "output_type": "stream",
          "name": "stdout",
          "text": [
            "Qual o seu sobrenome? Cruz\n",
            "Família Cruz\n"
          ]
        }
      ]
    },
    {
      "cell_type": "markdown",
      "source": [
        "5- Faça um programa em Python que solicite o esporte favorito de uma pessoa e apresente-o na tela."
      ],
      "metadata": {
        "id": "L9w68hUEeGrj"
      }
    },
    {
      "cell_type": "code",
      "source": [
        "esporte = input(\"Qual o seu esporte favorito? \")\n",
        "print(\"Seu esporte favorito é:\", esporte)"
      ],
      "metadata": {
        "id": "YylRg8iWeRlD",
        "colab": {
          "base_uri": "https://localhost:8080/"
        },
        "outputId": "15e56487-c618-4525-ce02-5dd10278f920"
      },
      "execution_count": null,
      "outputs": [
        {
          "output_type": "stream",
          "name": "stdout",
          "text": [
            "Qual o seu esporte favorito? Balé\n",
            "Seu esporte favorito é: Balé\n"
          ]
        }
      ]
    },
    {
      "cell_type": "markdown",
      "source": [
        "#Aula 2\n",
        "1- Desenvolva um programa em Python que solicite ao usuário os valores dos lados de um retângulo e calcule e mostre seu perímetro e sua área."
      ],
      "metadata": {
        "id": "sO7UcGl3eSQ5"
      }
    },
    {
      "cell_type": "code",
      "source": [
        "#Entrada\n",
        "largura = float(input(\"Qual a largura do retângulo? \"))\n",
        "altura = float(input(\"Qual a altura do retângulo?\"))\n",
        "#Processamento\n",
        "perimetro = 2 * (largura + altura)\n",
        "area = largura * altura\n",
        "#Saída\n",
        "print(\"O perímetro do retângulo vale %f\" % perimetro)\n",
        "print(\"A área do retângulo vale %d\" % area)"
      ],
      "metadata": {
        "id": "jwwiziSVekY4",
        "colab": {
          "base_uri": "https://localhost:8080/"
        },
        "outputId": "158ac543-81cb-4d57-ded9-8ce9a74d91a0"
      },
      "execution_count": null,
      "outputs": [
        {
          "output_type": "stream",
          "name": "stdout",
          "text": [
            "Qual a largura do retângulo? 40\n",
            "Qual a altura do retângulo?20\n",
            "O perímetro do retângulo vale 120.000000\n",
            "A área do retângulo vale 800.000000\n"
          ]
        }
      ]
    },
    {
      "cell_type": "markdown",
      "source": [
        "2- Escreva um programa em Python que solicite ao usuário o salário atual e mostre o salário acrescido de 5% de comissão."
      ],
      "metadata": {
        "id": "y7Oq1VOcek0u"
      }
    },
    {
      "cell_type": "code",
      "source": [
        "salario = float(input(\"Qual o seu salário atual? \"))\n",
        "comissao = 1.05 * salario\n",
        "print(\"O seu sálario com comissão é %d\" % comissao)"
      ],
      "metadata": {
        "id": "YbDYHmEgexcn",
        "colab": {
          "base_uri": "https://localhost:8080/"
        },
        "outputId": "a99a92b1-4578-4cd1-f62d-27d7428a2621"
      },
      "execution_count": null,
      "outputs": [
        {
          "output_type": "stream",
          "name": "stdout",
          "text": [
            "Qual o seu salário atual? 1500\n",
            "O seu sálario com comissão é 1575.000000\n"
          ]
        }
      ]
    },
    {
      "cell_type": "markdown",
      "source": [
        "3- Escreva um programa em Python que solicite ao usuário a distância entre duas cidades e o tempo de viagem. O programa deverá calcular e exibir a velocidade média de um carro que vai de uma cidade para outra. Utilize a fórmula:\n",
        "\n",
        "vm = distância / tempo"
      ],
      "metadata": {
        "id": "a7qM1D5teyCt"
      }
    },
    {
      "cell_type": "code",
      "source": [
        "distancia = float(input(\"Qual a distância entre as duas cidades? \"))\n",
        "tempoViagem = float(input(\"Qual o tempo de viagem entre as duas cidades?\"))\n",
        "velocidadeMedia = distancia / tempoViagem\n",
        "print(\"A velocidade média do carro é: %d\" % velocidadeMedia)"
      ],
      "metadata": {
        "colab": {
          "base_uri": "https://localhost:8080/"
        },
        "id": "XpjdjEKkFfW5",
        "outputId": "47f78eb4-76e0-4e9f-9b23-c0224beadc75"
      },
      "execution_count": null,
      "outputs": [
        {
          "output_type": "stream",
          "name": "stdout",
          "text": [
            "Qual a distância entre as duas cidades? 500\n",
            "Qual o tempo de viagem entre as duas cidades?20\n",
            "A velocidade média do carro é: 25.000000\n"
          ]
        }
      ]
    },
    {
      "cell_type": "markdown",
      "source": [
        "4- Escreva um programa em Python que calcule as duas raízes de uma equação de 2º grau ax²+bx+c, conhecendo os valores dos coeficientes da mesma (a, b, c). Suponha que as raízes são reais. Lembre-se que para calcular as duas raízes:\n",
        "\n",
        "![Imagem1.png](data:image/png;base64,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)\n",
        "\n",
        "com:\n",
        "\n",
        "![Imagem2.png](data:image/png;base64,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)"
      ],
      "metadata": {
        "id": "HhwkHp54gZJH"
      }
    },
    {
      "cell_type": "code",
      "source": [
        "a = float(input(\"Qual o valor de a? \"))\n",
        "b = float(input(\"Qual o valor de b? \"))\n",
        "c = float(input(\"Qual o valor de c? \"))\n",
        "\n",
        "delta = b ** 2 - 4 * a * c\n",
        "\n",
        "x1 = (-b + delta ** 0.5) / 2 / a\n",
        "x2 = (-b - delta ** 0.5) / (2 * a)\n",
        "\n",
        "print(\"As raizes são: \\nX1 = %d\\nX2 = %d\" % (x1, x2))\n",
        "\n",
        "#O valor c precisa ser negativo"
      ],
      "metadata": {
        "id": "DLodgzgCgoHW",
        "colab": {
          "base_uri": "https://localhost:8080/"
        },
        "outputId": "7a13d229-bf69-4b01-c017-7f04ee31af09"
      },
      "execution_count": null,
      "outputs": [
        {
          "output_type": "stream",
          "name": "stdout",
          "text": [
            "Qual o valor de a? 3\n",
            "Qual o valor de b? 4\n",
            "Qual o valor de c? -5\n",
            "As raizes são: \n",
            "X1 = 0\n",
            "X2 = -2\n"
          ]
        }
      ]
    },
    {
      "cell_type": "markdown",
      "source": [
        "5- Escreva um programa em Python que leia a cotação do dólar (taxa de conversão), leia um valor em dólares e converta e mostre o valor equivalente em Reais."
      ],
      "metadata": {
        "id": "ISn_cp_Mdp3w"
      }
    },
    {
      "cell_type": "code",
      "source": [
        "dolar = float(input(\"Quantos dólares? \"))\n",
        "reais = dolar * 5.8\n",
        "print(dolar , (\"doláres em reais é: %d reais\" % reais ) )"
      ],
      "metadata": {
        "id": "wlPs0ESfg3I6",
        "colab": {
          "base_uri": "https://localhost:8080/"
        },
        "outputId": "4c05bc59-f467-4a4d-afbe-6b6637906a7f"
      },
      "execution_count": null,
      "outputs": [
        {
          "output_type": "stream",
          "name": "stdout",
          "text": [
            "Quantos dólares? 100\n",
            "100.0 doláres em reais é: 580 reais\n"
          ]
        }
      ]
    },
    {
      "cell_type": "markdown",
      "source": [
        "6- Escreva um programa em Python que leia um valor representando o gasto realizado por um cliente do restaurante ComaBem e visualize o valor total a ser pago, considerando os 10% do garçom."
      ],
      "metadata": {
        "id": "X2Wf8lslg33I"
      }
    },
    {
      "cell_type": "code",
      "source": [
        "gasto = float(input(\"Quanto foi gasto pelo cliente? \"))\n",
        "pagar = gasto * 1.1\n",
        "print(\"O valor total a ser pago, com a comissão do garçom é %d\" % pagar)"
      ],
      "metadata": {
        "id": "I3RKWM3dg-Vv",
        "colab": {
          "base_uri": "https://localhost:8080/"
        },
        "outputId": "71b08e6d-2860-4218-c42d-d411c6d1e9dc"
      },
      "execution_count": null,
      "outputs": [
        {
          "output_type": "stream",
          "name": "stdout",
          "text": [
            "Quanto foi gasto pelo cliente? 50\n",
            "O valor total a ser pago, com a comissão do garçom é 55.000000\n"
          ]
        }
      ]
    },
    {
      "cell_type": "markdown",
      "source": [
        "7- Escreva um programa em Python que obtenha uma temperatura em graus Celsius, calcule e mostre a respectiva temperatura nas escalas Fahrenheit e Kelvin. Utilize as fórmulas abaixo:\n",
        "\n",
        "TF = 1,8 * TC + 32\n",
        "\n",
        "TK = TC + 273"
      ],
      "metadata": {
        "id": "Dd9wKFZ9g-sE"
      }
    },
    {
      "cell_type": "code",
      "source": [
        "celsius = float(input(\"Qual a temperatura em Celsius? \"))\n",
        "fahrenheit = 1.8 * celsius + 32\n",
        "kelvin = celsius + 273\n",
        "print(celsius, (\"em fahrenheit é %d\" % fahrenheit))\n",
        "print(celsius,(\"em Kelvin é %d\") % kelvin)"
      ],
      "metadata": {
        "id": "O7KmdBS8hYnQ",
        "colab": {
          "base_uri": "https://localhost:8080/"
        },
        "outputId": "9d40a77d-4ed0-48d5-9499-ed2d57e826f2"
      },
      "execution_count": null,
      "outputs": [
        {
          "output_type": "stream",
          "name": "stdout",
          "text": [
            "Qual a temperatura em Celsius? 25\n",
            "25.0 em fahrenheit é 77\n",
            "25.0 em Kelvin é 298\n"
          ]
        }
      ]
    }
  ]
}